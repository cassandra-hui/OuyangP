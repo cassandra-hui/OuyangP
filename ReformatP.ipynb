{
 "cells": [
  {
   "cell_type": "markdown",
   "id": "253ee9f0",
   "metadata": {},
   "source": [
    "# Hop Data Reorganization for the Ouyang Lab"
   ]
  },
  {
   "cell_type": "markdown",
   "id": "bcd0a91e",
   "metadata": {},
   "source": [
    "The following script will reformat and reorganize your hop data collected from the perches into a common circadian data format. "
   ]
  },
  {
   "cell_type": "code",
   "execution_count": null,
   "id": "596c25e2",
   "metadata": {},
   "outputs": [],
   "source": [
    "# Dowload your data file\n",
    "import pandas as pd\n",
    "# Replace 'your_csv_file.csv' with the actual file path\n",
    "data = pd.read_csv('your_csv_file.csv')"
   ]
  },
  {
   "cell_type": "code",
   "execution_count": null,
   "id": "edbbb356",
   "metadata": {},
   "outputs": [],
   "source": [
    "# Assuming your data frame is named 'data'\n",
    "# You might need to adjust column names accordingly\n",
    "\n",
    "# Pivot the data to have cages as columns\n",
    "pivoted_data = data.pivot_table(index=['Date', 'timestamp'], columns='Cage', values='HopsPerMinute', fill_value=0).reset_index()\n",
    "\n",
    "# Convert 'Date' and 'timestamp' columns to datetime objects\n",
    "pivoted_data['Date'] = pd.to_datetime(pivoted_data['Date'])\n",
    "pivoted_data['timestamp'] = pd.to_datetime(pivoted_data['timestamp'])\n",
    "\n",
    "# Convert datetime objects to formatted strings\n",
    "pivoted_data['Date'] = pivoted_data['Date'].dt.strftime('%e %b %y')\n",
    "pivoted_data['timestamp'] = pivoted_data['timestamp'].dt.strftime('%H:%M:%S')\n",
    "\n",
    "# Add an 'activity_indicator' column with all values set to 1\n",
    "pivoted_data['activity_indicator'] = 1\n",
    "\n",
    "# Add the 'extra' column with all values set to 0\n",
    "pivoted_data['extra'] = 0\n",
    "\n",
    "# Add a continuous counting column at the beginning\n",
    "pivoted_data.insert(0, 'count', range(1, len(pivoted_data) + 1))\n",
    "\n",
    "# Reorder the columns\n",
    "reordered_columns = ['count', 'Date', 'timestamp', 'activity_indicator'] + ['extra'] * 6 + list(range(1, 25)) + ['extra'] * 8\n",
    "pivoted_data = pivoted_data[reordered_columns]"
   ]
  },
  {
   "cell_type": "code",
   "execution_count": null,
   "id": "f13c10aa",
   "metadata": {},
   "outputs": [],
   "source": [
    "# Save your data\n",
    "# Write the reformatted data to a tab-separated .txt file without column names\n",
    "pivoted_data.to_csv('Monitor1.txt', sep='\\t', index=False, header=False, lineterminator='\\n')"
   ]
  }
 ],
 "metadata": {
  "kernelspec": {
   "display_name": "Python 3",
   "language": "python",
   "name": "python3"
  },
  "language_info": {
   "codemirror_mode": {
    "name": "ipython",
    "version": 3
   },
   "file_extension": ".py",
   "mimetype": "text/x-python",
   "name": "python",
   "nbconvert_exporter": "python",
   "pygments_lexer": "ipython3",
   "version": "3.8.8"
  }
 },
 "nbformat": 4,
 "nbformat_minor": 5
}
